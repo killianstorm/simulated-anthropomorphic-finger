{
  "nbformat": 4,
  "nbformat_minor": 0,
  "metadata": {
    "colab": {
      "name": "learning_grasp.ipynb",
      "provenance": [],
      "toc_visible": true,
      "authorship_tag": "ABX9TyOvhleY6yKUKeCPBrE3B36h",
      "include_colab_link": true
    },
    "kernelspec": {
      "name": "python3",
      "display_name": "Python 3"
    }
  },
  "cells": [
    {
      "cell_type": "markdown",
      "metadata": {
        "id": "view-in-github",
        "colab_type": "text"
      },
      "source": [
        "<a href=\"https://colab.research.google.com/github/killianstorm/simulated-anthropomorphic-finger/blob/master/learning_grasp.ipynb\" target=\"_parent\"><img src=\"https://colab.research.google.com/assets/colab-badge.svg\" alt=\"Open In Colab\"/></a>"
      ]
    },
    {
      "cell_type": "markdown",
      "metadata": {
        "id": "Ms0ha1lEcasL",
        "colab_type": "text"
      },
      "source": [
        ""
      ]
    },
    {
      "cell_type": "code",
      "metadata": {
        "id": "JatH-iU4fQVA",
        "colab_type": "code",
        "colab": {}
      },
      "source": [
        "! git clone https://github.com/killianstorm/simulated-anthropomorphic-finger"
      ],
      "execution_count": 0,
      "outputs": []
    },
    {
      "cell_type": "code",
      "metadata": {
        "id": "8wzTtIujbF8V",
        "colab_type": "code",
        "outputId": "afca2dbb-6c83-4fc5-eb68-5a7d5e95f1d7",
        "colab": {
          "base_uri": "https://localhost:8080/",
          "height": 51
        }
      },
      "source": [
        "import sys\n",
        "import os\n",
        "\n",
        "sys.path.append('/content/simulated-anthropomorphic-finger/finger_model')\n",
        "from analysis.learning.gradient_descent import *"
      ],
      "execution_count": 1,
      "outputs": [
        {
          "output_type": "stream",
          "text": [
            "/usr/local/lib/python3.6/dist-packages/jax/lib/xla_bridge.py:127: UserWarning: No GPU/TPU found, falling back to CPU.\n",
            "  warnings.warn('No GPU/TPU found, falling back to CPU.')\n"
          ],
          "name": "stderr"
        }
      ]
    },
    {
      "cell_type": "code",
      "metadata": {
        "id": "dFOOwhndbmaV",
        "colab_type": "code",
        "colab": {}
      },
      "source": [
        "# Interval.\n",
        "tmax, dt = 1., 0.001\n",
        "interval = num.arange(0, tmax + dt, dt)\n",
        "\n",
        "fp = []\n",
        "for i in interval:\n",
        "    fp.append(10.)\n",
        "\n",
        "p_predefined = {\n",
        "    'interval': interval,\n",
        "    'F_fs': np.zeros(interval.shape[0]),\n",
        "    'F_io': np.zeros(interval.shape[0]),\n",
        "    'F_fp': np.array(fp),\n",
        "    'F_ed': np.zeros(interval.shape[0]),\n",
        "}\n",
        "\n",
        "name = \"full grasp trajectory \\n with angle loss function\"\n",
        "reference = simulate_predefined(p_predefined)"
      ],
      "execution_count": 0,
      "outputs": []
    },
    {
      "cell_type": "code",
      "metadata": {
        "id": "A73GZQ54bspv",
        "colab_type": "code",
        "colab": {
          "base_uri": "https://localhost:8080/",
          "height": 412
        },
        "outputId": "5a958101-243d-4158-b394-0f159506418f"
      },
      "source": [
        "loss_function = loss_angles\n",
        "\n",
        "# Learn to reproduce trajectory using gradient descent.\n",
        "learn_gradient_descent(reference, interval, 2, loss_function=loss_function, tendons=True, name=name)"
      ],
      "execution_count": 0,
      "outputs": [
        {
          "output_type": "stream",
          "text": [
            "Performing gradient descent on model with tendons\n",
            "Experiment name: full grasp trajectory \n",
            " with angle loss function\n",
            "Reference duration: 1.0\n",
            "dt: 0.001\n",
            "Start time is _12-Jun-2020_(21:45:12.065980)\n"
          ],
          "name": "stdout"
        },
        {
          "output_type": "display_data",
          "data": {
            "image/png": "[encoded data removed]",
            "text/plain": [
              "<Figure size 432x288 with 1 Axes>"
            ]
          },
          "metadata": {
            "tags": [],
            "needs_background": "light"
          }
        }
      ]
    },
    {
      "cell_type": "code",
      "metadata": {
        "id": "q54DXq_EbvA3",
        "colab_type": "code",
        "colab": {}
      },
      "source": [
        "loss_function = loss_endeffector\n",
        "\n",
        "# Learn to reproduce trajectory using gradient descent.\n",
        "learn_gradient_descent(reference, interval, 250, loss_function=loss_function, tendons=True, name=name)"
      ],
      "execution_count": 0,
      "outputs": []
    }
  ]
}
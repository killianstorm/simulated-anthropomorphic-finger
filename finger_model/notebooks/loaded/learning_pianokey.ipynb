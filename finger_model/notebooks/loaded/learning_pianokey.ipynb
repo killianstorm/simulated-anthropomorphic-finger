{
 "nbformat": 4,
 "nbformat_minor": 0,
 "metadata": {
  "colab": {
   "name": "learning_pianokey.ipynb",
   "provenance": [],
   "toc_visible": true,
   "authorship_tag": "ABX9TyMsgBfVAUjW2mZzrmnYZhaG",
   "include_colab_link": true
  },
  "kernelspec": {
   "name": "python3",
   "display_name": "Python 3"
  },
  "pycharm": {
   "stem_cell": {
    "cell_type": "raw",
    "source": [],
    "metadata": {
     "collapsed": false
    }
   }
  }
 },
 "cells": [
  {
   "cell_type": "markdown",
   "metadata": {
    "id": "view-in-github",
    "colab_type": "text"
   },
   "source": [
    "<a href=\"https://colab.research.google.com/github/killianstorm/simulated-anthropomorphic-finger/blob/pianokey/finger_model/notebooks/loaded/learning_pianokey.ipynb\" target=\"_parent\"><img src=\"https://colab.research.google.com/assets/colab-badge.svg\" alt=\"Open In Colab\"/></a>"
   ]
  },
  {
   "cell_type": "markdown",
   "metadata": {
    "id": "Ms0ha1lEcasL",
    "colab_type": "text"
   },
   "source": [
    "This notebook learns a pianokey stroke trajectory as discussed in Chapter 7. The graphs are displayed in this notebook but are also saved to the local disk. The animation is saved to the /content/simulated-anthropomorphic-finger/finger_model/notebooks/loaded folder. Please make sure the ENABLE_PIANO_KEY boolean is enabled."
   ]
  },
  {
   "cell_type": "code",
   "metadata": {
    "id": "JatH-iU4fQVA",
    "colab_type": "code",
    "colab": {}
   },
   "source": [
    "! git clone -b pianokey https://github.com/killianstorm/simulated-anthropomorphic-finger"
   ],
   "execution_count": 0,
   "outputs": []
  },
  {
   "cell_type": "code",
   "metadata": {
    "id": "8wzTtIujbF8V",
    "colab_type": "code",
    "colab": {}
   },
   "source": [
    "import sys\n",
    "import os\n",
    "import pickle\n",
    "\n",
    "sys.path.append('/content/simulated-anthropomorphic-finger/finger_model')\n",
    "from analysis.learning.gradient_descent import *\n",
    "\n",
    "location = \"/content/simulated-anthropomorphic-finger/finger_model/notebooks/loaded\"\n",
    "os.chdir(location)"
   ],
   "execution_count": 0,
   "outputs": []
  },
  {
   "cell_type": "markdown",
   "metadata": {
    "id": "nMcbEDRbiWei",
    "colab_type": "text"
   },
   "source": [
    "Load piano key stroke reference trajectory."
   ]
  },
  {
   "cell_type": "code",
   "metadata": {
    "id": "dFOOwhndbmaV",
    "colab_type": "code",
    "colab": {}
   },
   "source": [
    "# Interval.\n",
    "tmax, dt = 2., 0.001\n",
    "interval = num.arange(0, tmax + dt, dt)\n",
    "\n",
    "infile = open(\"full_piano_keystroke.pickle\",'rb')\n",
    "reference = pickle.load(infile)\n",
    "infile.close()\n",
    "\n",
    "name = \"loaded piano keystroke trajectory \\n with angle loss function\"\n",
    "loss_function = loss_angles"
   ],
   "execution_count": 0,
   "outputs": []
  },
  {
   "cell_type": "markdown",
   "metadata": {
    "id": "qu7WiKcRibAF",
    "colab_type": "text"
   },
   "source": [
    "Approximate reference by using gradient descent with the angles/angle velocities loss function."
   ]
  },
  {
   "cell_type": "code",
   "metadata": {
    "id": "A73GZQ54bspv",
    "colab_type": "code",
    "colab": {},
    "pycharm": {
     "name": "#%%\n"
    }
   },
   "source": [
    "# Learn to reproduce trajectory using gradient descent.\n",
    "learn_gradient_descent(reference, interval, 250, loss_function=loss_angles, tendons=True, name=name)"
   ],
   "execution_count": 0,
   "outputs": []
  }
 ]
}

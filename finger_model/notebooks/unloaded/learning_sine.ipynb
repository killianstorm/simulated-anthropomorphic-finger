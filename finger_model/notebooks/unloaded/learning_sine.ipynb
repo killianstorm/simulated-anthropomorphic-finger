{
  "nbformat": 4,
  "nbformat_minor": 0,
  "metadata": {
    "colab": {
      "name": "learning_sine.ipynb",
      "provenance": [],
      "toc_visible": true,
      "authorship_tag": "ABX9TyPRe0yP3w5SlpkfHH70U828",
      "include_colab_link": true
    },
    "kernelspec": {
      "name": "python3",
      "display_name": "Python 3"
    }
  },
  "cells": [
    {
      "cell_type": "markdown",
      "metadata": {
        "id": "view-in-github",
        "colab_type": "text"
      },
      "source": [
        "<a href=\"https://colab.research.google.com/github/killianstorm/simulated-anthropomorphic-finger/blob/master/finger_model/notebooks/unloaded/learning_sine.ipynb\" target=\"_parent\"><img src=\"https://colab.research.google.com/assets/colab-badge.svg\" alt=\"Open In Colab\"/></a>"
      ]
    },
    {
      "cell_type": "markdown",
      "metadata": {
        "id": "Ms0ha1lEcasL",
        "colab_type": "text"
      },
      "source": [
        "This notebook learns a sine trajectory as discussed in Chapter 7. The graphs are displayed in this notebook but are also saved to the local disk. The animation is saved to the root folder. "
      ]
    },
    {
      "cell_type": "code",
      "metadata": {
        "id": "JatH-iU4fQVA",
        "colab_type": "code",
        "colab": {}
      },
      "source": [
        "! git clone https://github.com/killianstorm/simulated-anthropomorphic-finger"
      ],
      "execution_count": 0,
      "outputs": []
    },
    {
      "cell_type": "code",
      "metadata": {
        "id": "8wzTtIujbF8V",
        "colab_type": "code",
        "colab": {}
      },
      "source": [
        "import sys\n",
        "import os\n",
        "\n",
        "sys.path.append('/content/simulated-anthropomorphic-finger/finger_model')\n",
        "from analysis.learning.gradient_descent import *"
      ],
      "execution_count": 0,
      "outputs": []
    },
    {
      "cell_type": "markdown",
      "metadata": {
        "id": "nMcbEDRbiWei",
        "colab_type": "text"
      },
      "source": [
        "Create reference sine trajectory."
      ]
    },
    {
      "cell_type": "code",
      "metadata": {
        "id": "dFOOwhndbmaV",
        "colab_type": "code",
        "colab": {}
      },
      "source": [
        "# Interval.\n",
        "tmax, dt = 1.8, 0.0001\n",
        "interval = num.arange(0, tmax + dt, dt)\n",
        "\n",
        "p_sine = {\n",
        "    'amplitudes': np.array([0., 2., 15., 25]),\n",
        "    'phases': np.array([0., 2.5, 3., 1.75]),\n",
        "    'interval': interval\n",
        "}\n",
        "\n",
        "name = \"sine trajectory \\n with angle loss function\"\n",
        "reference = simulate_sine(p_sine)"
      ],
      "execution_count": 0,
      "outputs": []
    },
    {
      "cell_type": "markdown",
      "metadata": {
        "id": "qu7WiKcRibAF",
        "colab_type": "text"
      },
      "source": [
        "Approximate reference by using gradient descent with the angles/angle velocities loss function."
      ]
    },
    {
      "cell_type": "code",
      "metadata": {
        "id": "A73GZQ54bspv",
        "colab_type": "code",
        "colab": {}
      },
      "source": [
        "# Learn to reproduce trajectory using gradient descent.\n",
        "learn_gradient_descent(reference, interval, 250, loss_function=loss_angles, tendons=True, name=name)"
      ],
      "execution_count": 0,
      "outputs": []
    },
    {
      "cell_type": "markdown",
      "metadata": {
        "colab_type": "text",
        "id": "SURTLbYEijju"
      },
      "source": [
        "Approximate reference by using gradient descent with the end-effector loss function."
      ]
    },
    {
      "cell_type": "code",
      "metadata": {
        "id": "q54DXq_EbvA3",
        "colab_type": "code",
        "colab": {}
      },
      "source": [
        "# Learn to reproduce trajectory using gradient descent.\n",
        "learn_gradient_descent(reference, interval, 250, loss_function=loss_endeffector, tendons=True, name=name)"
      ],
      "execution_count": 0,
      "outputs": []
    }
  ]
}

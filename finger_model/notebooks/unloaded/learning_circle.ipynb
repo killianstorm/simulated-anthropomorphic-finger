{
 "nbformat": 4,
 "nbformat_minor": 0,
 "metadata": {
  "colab": {
   "name": "learning_circle.ipynb",
   "provenance": [],
   "toc_visible": true,
   "authorship_tag": "ABX9TyMsgBfVAUjW2mZzrmnYZhaG",
   "include_colab_link": true
  },
  "kernelspec": {
   "name": "python3",
   "display_name": "Python 3"
  },
  "pycharm": {
   "stem_cell": {
    "cell_type": "raw",
    "source": [],
    "metadata": {
     "collapsed": false
    }
   }
  }
 },
 "cells": [
  {
   "cell_type": "markdown",
   "metadata": {
    "id": "view-in-github",
    "colab_type": "text"
   },
   "source": [
    "<a href=\"https://colab.research.google.com/github/killianstorm/simulated-anthropomorphic-finger/blob/master/finger_model/notebooks/unloaded/learning_circle.ipynb\" target=\"_parent\"><img src=\"https://colab.research.google.com/assets/colab-badge.svg\" alt=\"Open In Colab\"/></a>"
   ]
  },
  {
   "cell_type": "markdown",
   "metadata": {
    "id": "Ms0ha1lEcasL",
    "colab_type": "text"
   },
   "source": [
    "This notebook learns a perfect circle trajectory as discussed in Chapter 7. The graphs are displayed in this notebook but are also saved to the local disk. The animation is saved to the root folder. "
   ]
  },
  {
   "cell_type": "code",
   "metadata": {
    "id": "JatH-iU4fQVA",
    "colab_type": "code",
    "colab": {}
   },
   "source": [
    "! git clone https://github.com/killianstorm/simulated-anthropomorphic-finger"
   ],
   "execution_count": 0,
   "outputs": []
  },
  {
   "cell_type": "code",
   "metadata": {
    "id": "8wzTtIujbF8V",
    "colab_type": "code",
    "colab": {}
   },
   "source": [
    "import sys\n",
    "import os\n",
    "\n",
    "sys.path.append('/content/simulated-anthropomorphic-finger/finger_model')\n",
    "from analysis.learning.gradient_descent import *"
   ],
   "execution_count": 0,
   "outputs": []
  },
  {
   "cell_type": "markdown",
   "metadata": {
    "id": "nMcbEDRbiWei",
    "colab_type": "text"
   },
   "source": [
    "Create reference perfect circle trajectory."
   ]
  },
  {
   "cell_type": "code",
   "metadata": {
    "id": "dFOOwhndbmaV",
    "colab_type": "code",
    "colab": {}
   },
   "source": [
    "# Interval.\n",
    "tmax, dt = 1., 0.001\n",
    "interval = num.arange(0, tmax + dt, dt)\n",
    "\n",
    "r = 0.03\n",
    "offset = np.sum(lengths) - r\n",
    "\n",
    "x = np.linspace(-r, r, int((tmax / dt) / 2) + 1)\n",
    "x2 = x[::-1][:-1]\n",
    "\n",
    "z = np.sqrt(-x ** 2 + r ** 2)\n",
    "z2 = -np.sqrt(-x2 ** 2 + r ** 2)\n",
    "\n",
    "x = np.concatenate([x2 + offset, x + offset])\n",
    "z = np.concatenate([z2, z])\n",
    "plt.plot(x, z)\n",
    "plt.show()\n",
    "\n",
    "xz = np.array([x, z])\n",
    "\n",
    "reference = {\n",
    "    'interval': interval,\n",
    "    'end_effector': xz\n",
    "}\n",
    "\n",
    "name = \"perfect circle trajectory\""
   ],
   "execution_count": 0,
   "outputs": []
  },
  {
   "cell_type": "markdown",
   "source": [
    "Approximate reference by using gradient descent with the end-effector loss function."
   ],
   "metadata": {
    "collapsed": false
   }
  },
  {
   "cell_type": "code",
   "execution_count": null,
   "outputs": [],
   "source": [
    "# Learn to reproduce trajectory using gradient descent.\n",
    "learn_gradient_descent(reference, interval, 250, loss_function=loss_endeffector, tendons=True, name=name)"
   ],
   "metadata": {
    "collapsed": false,
    "pycharm": {
     "name": "#%%\n"
    }
   }
  }
 ]
}
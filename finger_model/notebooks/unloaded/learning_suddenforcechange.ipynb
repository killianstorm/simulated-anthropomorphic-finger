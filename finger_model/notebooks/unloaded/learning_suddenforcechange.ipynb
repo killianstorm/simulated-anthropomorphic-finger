{
  "nbformat": 4,
  "nbformat_minor": 0,
  "metadata": {
    "colab": {
      "name": "learning_suddenforcechange.ipynb",
      "provenance": [],
      "toc_visible": true,
      "authorship_tag": "ABX9TyN666J1MqKWkr3L8Fo9XUGx",
      "include_colab_link": true
    },
    "kernelspec": {
      "name": "python3",
      "display_name": "Python 3"
    }
  },
  "cells": [
    {
      "cell_type": "markdown",
      "metadata": {
        "id": "view-in-github",
        "colab_type": "text"
      },
      "source": [
        "<a href=\"https://colab.research.google.com/github/killianstorm/simulated-anthropomorphic-finger/blob/master/finger_model/notebooks/unloaded/learning_suddenforcechange.ipynb\" target=\"_parent\"><img src=\"https://colab.research.google.com/assets/colab-badge.svg\" alt=\"Open In Colab\"/></a>"
      ]
    },
    {
      "cell_type": "markdown",
      "metadata": {
        "id": "Ms0ha1lEcasL",
        "colab_type": "text"
      },
      "source": [
        "This notebook learns a sudden force change trajectory as discussed in Chapter 7. The graphs are displayed in this notebook but are also saved to the local disk. The animation is saved to the root folder. "
      ]
    },
    {
      "cell_type": "code",
      "metadata": {
        "id": "JatH-iU4fQVA",
        "colab_type": "code",
        "colab": {}
      },
      "source": [
        "! git clone https://github.com/killianstorm/simulated-anthropomorphic-finger"
      ],
      "execution_count": 0,
      "outputs": []
    },
    {
      "cell_type": "code",
      "metadata": {
        "id": "8wzTtIujbF8V",
        "colab_type": "code",
        "colab": {}
      },
      "source": [
        "import sys\n",
        "import os\n",
        "\n",
        "sys.path.append('/content/simulated-anthropomorphic-finger/finger_model')\n",
        "from analysis.learning.gradient_descent import *"
      ],
      "execution_count": 0,
      "outputs": []
    },
    {
      "cell_type": "markdown",
      "metadata": {
        "id": "nMcbEDRbiWei",
        "colab_type": "text"
      },
      "source": [
        "Create reference sudden force change trajectory."
      ]
    },
    {
      "cell_type": "code",
      "metadata": {
        "id": "dFOOwhndbmaV",
        "colab_type": "code",
        "colab": {}
      },
      "source": [
        "# Interval.\n",
        "tmax, dt = 1.5, 0.001\n",
        "interval = num.arange(0, tmax + dt, dt)\n",
        "\n",
        "\n",
        "length = interval.shape[0]\n",
        "F_fp = np.array([(7.0 if 0 < i < 0.5 else 12.5 if 0.5 < i < 1. else 9.5) for i in interval])\n",
        "F_io = np.array([(7.5 if 0 < i < 0.4 else 2. if 0.4 < i < 1. else 5.) for i in interval])\n",
        "F_ed = np.array([(12. if 0 < i < 0.3 else 15.0 if 0.3 < i < 0.8 else 30.) for i in interval])\n",
        "\n",
        "\n",
        "p_predefined = {\n",
        "    'interval': interval,\n",
        "    'F_fs': np.zeros(interval.shape[0]),\n",
        "    'F_io': F_io,\n",
        "    'F_fp': F_fp,\n",
        "    'F_ed': F_ed,\n",
        "}\n",
        "\n",
        "name = \"sudden force change trajectory \\n with angle loss function\"\n",
        "reference = simulate_predefined(p_predefined)"
      ],
      "execution_count": 0,
      "outputs": []
    },
    {
      "cell_type": "markdown",
      "metadata": {
        "id": "qu7WiKcRibAF",
        "colab_type": "text"
      },
      "source": [
        "Approximate reference by using gradient descent with the angles/angle velocities loss function."
      ]
    },
    {
      "cell_type": "code",
      "metadata": {
        "id": "A73GZQ54bspv",
        "colab_type": "code",
        "colab": {}
      },
      "source": [
        "# Learn to reproduce trajectory using gradient descent.\n",
        "learn_gradient_descent(reference, interval, 250, loss_function=loss_angles, tendons=True, name=name)"
      ],
      "execution_count": 0,
      "outputs": []
    },
    {
      "cell_type": "markdown",
      "metadata": {
        "colab_type": "text",
        "id": "SURTLbYEijju"
      },
      "source": [
        "Approximate reference by using gradient descent with the end-effector loss function."
      ]
    },
    {
      "cell_type": "code",
      "metadata": {
        "id": "q54DXq_EbvA3",
        "colab_type": "code",
        "colab": {}
      },
      "source": [
        "# Learn to reproduce trajectory using gradient descent.\n",
        "learn_gradient_descent(reference, interval, 250, loss_function=loss_endeffector, tendons=True, name=name)"
      ],
      "execution_count": 0,
      "outputs": []
    }
  ]
}
